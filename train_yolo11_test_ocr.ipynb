{
 "cells": [
  {
   "cell_type": "markdown",
   "id": "cfbe3fec",
   "metadata": {},
   "source": [
    "**Install pytesseract**\n",
    "\n",
    "Installs the pytesseract library, providing a Python wrapper for the Tesseract OCR engine, enabling text extraction from images."
   ]
  },
  {
   "cell_type": "code",
   "execution_count": 1,
   "id": "2cd5442d",
   "metadata": {},
   "outputs": [
    {
     "name": "stdout",
     "output_type": "stream",
     "text": [
      "Collecting pytesseract\n",
      "  Obtaining dependency information for pytesseract from https://files.pythonhosted.org/packages/7a/33/8312d7ce74670c9d39a532b2c246a853861120486be9443eebf048043637/pytesseract-0.3.13-py3-none-any.whl.metadata\n",
      "  Downloading pytesseract-0.3.13-py3-none-any.whl.metadata (11 kB)\n",
      "Requirement already satisfied: packaging>=21.3 in c:\\users\\hramphul\\appdata\\roaming\\python\\python312\\site-packages (from pytesseract) (24.2)\n",
      "Requirement already satisfied: Pillow>=8.0.0 in c:\\users\\hramphul\\appdata\\local\\programs\\python\\python312\\lib\\site-packages (from pytesseract) (11.0.0)\n",
      "Downloading pytesseract-0.3.13-py3-none-any.whl (14 kB)\n",
      "Installing collected packages: pytesseract\n",
      "Successfully installed pytesseract-0.3.13\n",
      "Note: you may need to restart the kernel to use updated packages.\n"
     ]
    },
    {
     "name": "stderr",
     "output_type": "stream",
     "text": [
      "WARNING: There was an error checking the latest version of pip.\n"
     ]
    }
   ],
   "source": [
    "%pip install pytesseract"
   ]
  },
  {
   "cell_type": "markdown",
   "id": "fc30d1c3",
   "metadata": {},
   "source": [
    "**Installs the OpenCV library (opencv-python) for advanced computer vision tasks.**\n",
    "\n",
    "This library allows for image and video processing, including reading, writing, and analyzing visual data.\n"
   ]
  },
  {
   "cell_type": "code",
   "execution_count": 2,
   "id": "6a47f8c1",
   "metadata": {},
   "outputs": [
    {
     "name": "stdout",
     "output_type": "stream",
     "text": [
      "Requirement already satisfied: opencv-python in c:\\users\\hramphul\\appdata\\local\\programs\\python\\python312\\lib\\site-packages (4.10.0.84)\n",
      "Requirement already satisfied: numpy>=1.21.2 in c:\\users\\hramphul\\appdata\\local\\programs\\python\\python312\\lib\\site-packages (from opencv-python) (2.1.3)\n",
      "Note: you may need to restart the kernel to use updated packages.\n"
     ]
    },
    {
     "name": "stderr",
     "output_type": "stream",
     "text": [
      "WARNING: There was an error checking the latest version of pip.\n"
     ]
    }
   ],
   "source": [
    "%pip install opencv-python"
   ]
  },
  {
   "cell_type": "markdown",
   "id": "7a33f426",
   "metadata": {},
   "source": [
    "**Install YOLOv11 Library**\n",
    "\n",
    "Installs the Ultralytics YOLO library, a cutting-edge tool for training and deploying YOLOv11 models.\n",
    "\n"
   ]
  },
  {
   "cell_type": "code",
   "execution_count": 3,
   "id": "43ced421",
   "metadata": {},
   "outputs": [
    {
     "name": "stdout",
     "output_type": "stream",
     "text": [
      "Requirement already satisfied: ultralytics in c:\\users\\hramphul\\appdata\\local\\programs\\python\\python312\\lib\\site-packages (8.3.52)\n",
      "Collecting ultralytics\n",
      "  Obtaining dependency information for ultralytics from https://files.pythonhosted.org/packages/c4/af/9d2d794f6a72ef75c8be1771b04dd043ded99744e59b9696bb090fbf9ebb/ultralytics-8.3.55-py3-none-any.whl.metadata\n",
      "  Downloading ultralytics-8.3.55-py3-none-any.whl.metadata (35 kB)\n",
      "Requirement already satisfied: numpy>=1.23.0 in c:\\users\\hramphul\\appdata\\local\\programs\\python\\python312\\lib\\site-packages (from ultralytics) (2.1.3)\n",
      "Requirement already satisfied: matplotlib>=3.3.0 in c:\\users\\hramphul\\appdata\\local\\programs\\python\\python312\\lib\\site-packages (from ultralytics) (3.10.0)\n",
      "Requirement already satisfied: opencv-python>=4.6.0 in c:\\users\\hramphul\\appdata\\local\\programs\\python\\python312\\lib\\site-packages (from ultralytics) (4.10.0.84)\n",
      "Requirement already satisfied: pillow>=7.1.2 in c:\\users\\hramphul\\appdata\\local\\programs\\python\\python312\\lib\\site-packages (from ultralytics) (11.0.0)\n",
      "Requirement already satisfied: pyyaml>=5.3.1 in c:\\users\\hramphul\\appdata\\local\\programs\\python\\python312\\lib\\site-packages (from ultralytics) (6.0.2)\n",
      "Requirement already satisfied: requests>=2.23.0 in c:\\users\\hramphul\\appdata\\local\\programs\\python\\python312\\lib\\site-packages (from ultralytics) (2.32.3)\n",
      "Requirement already satisfied: scipy>=1.4.1 in c:\\users\\hramphul\\appdata\\local\\programs\\python\\python312\\lib\\site-packages (from ultralytics) (1.14.1)\n",
      "Requirement already satisfied: torch>=1.8.0 in c:\\users\\hramphul\\appdata\\local\\programs\\python\\python312\\lib\\site-packages (from ultralytics) (2.5.1)\n",
      "Requirement already satisfied: torchvision>=0.9.0 in c:\\users\\hramphul\\appdata\\local\\programs\\python\\python312\\lib\\site-packages (from ultralytics) (0.20.1)\n",
      "Requirement already satisfied: tqdm>=4.64.0 in c:\\users\\hramphul\\appdata\\local\\programs\\python\\python312\\lib\\site-packages (from ultralytics) (4.67.0)\n",
      "Requirement already satisfied: psutil in c:\\users\\hramphul\\appdata\\roaming\\python\\python312\\site-packages (from ultralytics) (6.1.0)\n",
      "Requirement already satisfied: py-cpuinfo in c:\\users\\hramphul\\appdata\\local\\programs\\python\\python312\\lib\\site-packages (from ultralytics) (9.0.0)\n",
      "Requirement already satisfied: pandas>=1.1.4 in c:\\users\\hramphul\\appdata\\local\\programs\\python\\python312\\lib\\site-packages (from ultralytics) (2.2.3)\n",
      "Requirement already satisfied: seaborn>=0.11.0 in c:\\users\\hramphul\\appdata\\local\\programs\\python\\python312\\lib\\site-packages (from ultralytics) (0.13.2)\n",
      "Requirement already satisfied: ultralytics-thop>=2.0.0 in c:\\users\\hramphul\\appdata\\local\\programs\\python\\python312\\lib\\site-packages (from ultralytics) (2.0.13)\n",
      "Requirement already satisfied: contourpy>=1.0.1 in c:\\users\\hramphul\\appdata\\local\\programs\\python\\python312\\lib\\site-packages (from matplotlib>=3.3.0->ultralytics) (1.3.1)\n",
      "Requirement already satisfied: cycler>=0.10 in c:\\users\\hramphul\\appdata\\local\\programs\\python\\python312\\lib\\site-packages (from matplotlib>=3.3.0->ultralytics) (0.12.1)\n",
      "Requirement already satisfied: fonttools>=4.22.0 in c:\\users\\hramphul\\appdata\\local\\programs\\python\\python312\\lib\\site-packages (from matplotlib>=3.3.0->ultralytics) (4.55.3)\n",
      "Requirement already satisfied: kiwisolver>=1.3.1 in c:\\users\\hramphul\\appdata\\local\\programs\\python\\python312\\lib\\site-packages (from matplotlib>=3.3.0->ultralytics) (1.4.7)\n",
      "Requirement already satisfied: packaging>=20.0 in c:\\users\\hramphul\\appdata\\roaming\\python\\python312\\site-packages (from matplotlib>=3.3.0->ultralytics) (24.2)\n",
      "Requirement already satisfied: pyparsing>=2.3.1 in c:\\users\\hramphul\\appdata\\local\\programs\\python\\python312\\lib\\site-packages (from matplotlib>=3.3.0->ultralytics) (3.2.0)\n",
      "Requirement already satisfied: python-dateutil>=2.7 in c:\\users\\hramphul\\appdata\\roaming\\python\\python312\\site-packages (from matplotlib>=3.3.0->ultralytics) (2.9.0.post0)\n",
      "Requirement already satisfied: pytz>=2020.1 in c:\\users\\hramphul\\appdata\\local\\programs\\python\\python312\\lib\\site-packages (from pandas>=1.1.4->ultralytics) (2024.2)\n",
      "Requirement already satisfied: tzdata>=2022.7 in c:\\users\\hramphul\\appdata\\local\\programs\\python\\python312\\lib\\site-packages (from pandas>=1.1.4->ultralytics) (2024.2)\n",
      "Requirement already satisfied: charset-normalizer<4,>=2 in c:\\users\\hramphul\\appdata\\local\\programs\\python\\python312\\lib\\site-packages (from requests>=2.23.0->ultralytics) (3.4.0)\n",
      "Requirement already satisfied: idna<4,>=2.5 in c:\\users\\hramphul\\appdata\\local\\programs\\python\\python312\\lib\\site-packages (from requests>=2.23.0->ultralytics) (3.7)\n",
      "Requirement already satisfied: urllib3<3,>=1.21.1 in c:\\users\\hramphul\\appdata\\local\\programs\\python\\python312\\lib\\site-packages (from requests>=2.23.0->ultralytics) (2.2.3)\n",
      "Requirement already satisfied: certifi>=2017.4.17 in c:\\users\\hramphul\\appdata\\local\\programs\\python\\python312\\lib\\site-packages (from requests>=2.23.0->ultralytics) (2024.8.30)\n",
      "Requirement already satisfied: filelock in c:\\users\\hramphul\\appdata\\local\\programs\\python\\python312\\lib\\site-packages (from torch>=1.8.0->ultralytics) (3.16.1)\n",
      "Requirement already satisfied: typing-extensions>=4.8.0 in c:\\users\\hramphul\\appdata\\local\\programs\\python\\python312\\lib\\site-packages (from torch>=1.8.0->ultralytics) (4.12.2)\n",
      "Requirement already satisfied: networkx in c:\\users\\hramphul\\appdata\\local\\programs\\python\\python312\\lib\\site-packages (from torch>=1.8.0->ultralytics) (3.4.2)\n",
      "Requirement already satisfied: jinja2 in c:\\users\\hramphul\\appdata\\local\\programs\\python\\python312\\lib\\site-packages (from torch>=1.8.0->ultralytics) (3.1.4)\n",
      "Requirement already satisfied: fsspec in c:\\users\\hramphul\\appdata\\local\\programs\\python\\python312\\lib\\site-packages (from torch>=1.8.0->ultralytics) (2024.10.0)\n",
      "Requirement already satisfied: setuptools in c:\\users\\hramphul\\appdata\\local\\programs\\python\\python312\\lib\\site-packages (from torch>=1.8.0->ultralytics) (75.6.0)\n",
      "Requirement already satisfied: sympy==1.13.1 in c:\\users\\hramphul\\appdata\\local\\programs\\python\\python312\\lib\\site-packages (from torch>=1.8.0->ultralytics) (1.13.1)\n",
      "Requirement already satisfied: mpmath<1.4,>=1.1.0 in c:\\users\\hramphul\\appdata\\local\\programs\\python\\python312\\lib\\site-packages (from sympy==1.13.1->torch>=1.8.0->ultralytics) (1.3.0)\n",
      "Requirement already satisfied: colorama in c:\\users\\hramphul\\appdata\\roaming\\python\\python312\\site-packages (from tqdm>=4.64.0->ultralytics) (0.4.6)\n",
      "Requirement already satisfied: six>=1.5 in c:\\users\\hramphul\\appdata\\roaming\\python\\python312\\site-packages (from python-dateutil>=2.7->matplotlib>=3.3.0->ultralytics) (1.16.0)\n",
      "Requirement already satisfied: MarkupSafe>=2.0 in c:\\users\\hramphul\\appdata\\local\\programs\\python\\python312\\lib\\site-packages (from jinja2->torch>=1.8.0->ultralytics) (3.0.2)\n",
      "Downloading ultralytics-8.3.55-py3-none-any.whl (904 kB)\n",
      "   ---------------------------------------- 0.0/904.3 kB ? eta -:--:--\n",
      "   - -------------------------------------- 30.7/904.3 kB 1.3 MB/s eta 0:00:01\n",
      "   --- ----------------------------------- 71.7/904.3 kB 975.2 kB/s eta 0:00:01\n",
      "   ----- ---------------------------------- 122.9/904.3 kB 1.0 MB/s eta 0:00:01\n",
      "   ------- -------------------------------- 174.1/904.3 kB 1.0 MB/s eta 0:00:01\n",
      "   --------- ------------------------------ 225.3/904.3 kB 1.1 MB/s eta 0:00:01\n",
      "   ----------- ---------------------------- 266.2/904.3 kB 1.0 MB/s eta 0:00:01\n",
      "   -------------- ------------------------- 317.4/904.3 kB 1.0 MB/s eta 0:00:01\n",
      "   ---------------- ----------------------- 368.6/904.3 kB 1.0 MB/s eta 0:00:01\n",
      "   ------------------ --------------------- 419.8/904.3 kB 1.0 MB/s eta 0:00:01\n",
      "   -------------------- ------------------- 471.0/904.3 kB 1.1 MB/s eta 0:00:01\n",
      "   ---------------------- ----------------- 512.0/904.3 kB 1.0 MB/s eta 0:00:01\n",
      "   ------------------------ --------------- 563.2/904.3 kB 1.1 MB/s eta 0:00:01\n",
      "   --------------------------- ------------ 614.4/904.3 kB 1.1 MB/s eta 0:00:01\n",
      "   ----------------------------- ---------- 665.6/904.3 kB 1.1 MB/s eta 0:00:01\n",
      "   ------------------------------- -------- 716.8/904.3 kB 1.1 MB/s eta 0:00:01\n",
      "   --------------------------------- ------ 757.8/904.3 kB 1.1 MB/s eta 0:00:01\n",
      "   ----------------------------------- ---- 809.0/904.3 kB 1.1 MB/s eta 0:00:01\n",
      "   -------------------------------------- - 860.2/904.3 kB 1.1 MB/s eta 0:00:01\n",
      "   ---------------------------------------- 904.3/904.3 kB 1.1 MB/s eta 0:00:00\n",
      "Installing collected packages: ultralytics\n",
      "  Attempting uninstall: ultralytics\n",
      "    Found existing installation: ultralytics 8.3.52\n",
      "    Uninstalling ultralytics-8.3.52:\n",
      "      Successfully uninstalled ultralytics-8.3.52\n",
      "Successfully installed ultralytics-8.3.55\n",
      "Note: you may need to restart the kernel to use updated packages.\n"
     ]
    },
    {
     "name": "stderr",
     "output_type": "stream",
     "text": [
      "WARNING: There was an error checking the latest version of pip.\n"
     ]
    }
   ],
   "source": [
    "%pip install -U ultralytics"
   ]
  },
  {
   "cell_type": "markdown",
   "id": "6a7a193e",
   "metadata": {},
   "source": [
    "**Import Required Libraries**\n",
    "\n",
    "Imports essential libraries:\n",
    "\n",
    "* `YOLO` for object detection\n",
    "* `cv2` (OpenCV) for image processing\n",
    "* `pytesseract` for OCR Additionally, sets the path to the Tesseract OCR executable."
   ]
  },
  {
   "cell_type": "code",
   "execution_count": 2,
   "id": "FE5W6wT-1qny",
   "metadata": {
    "colab": {
     "base_uri": "https://localhost:8080/"
    },
    "id": "FE5W6wT-1qny",
    "outputId": "33ec9dec-03ca-41cc-b93b-921955cb0eff"
   },
   "outputs": [
    {
     "name": "stdout",
     "output_type": "stream",
     "text": [
      "c:\\Users\\hramphul\\Desktop\\yolo_ocr\n"
     ]
    }
   ],
   "source": [
    "from ultralytics import YOLO\n",
    "from IPython.display import Image\n",
    "import cv2\n",
    "import pytesseract\n",
    "\n",
    "# Provide the path to the Tesseract executable\n",
    "pytesseract.pytesseract.tesseract_cmd = r'C:\\Program Files\\Tesseract-OCR\\tesseract.exe'\n",
    "\n",
    "import os\n",
    "HOME = os.getcwd()  # Getting the current working directory\n",
    "print(HOME)"
   ]
  },
  {
   "cell_type": "markdown",
   "id": "b7e90d7f",
   "metadata": {},
   "source": [
    "**Define OCR Function**\n",
    "\n",
    "Defines a function to perform OCR on the cropped regions of detected bounding boxes. It includes the following steps:\n",
    "\n",
    "1. Extract bounding box coordinates and class names.\n",
    "2. Crop the detected regions from the image.\n",
    "3. Preprocess the cropped image (convert to grayscale and binarize) for better OCR results.\n",
    "4. Apply OCR to extract text and print the results."
   ]
  },
  {
   "cell_type": "code",
   "execution_count": 3,
   "id": "1c20d52c",
   "metadata": {},
   "outputs": [],
   "source": [
    "# OCR Function\n",
    "def perform_ocr(image, detections):\n",
    "    \"\"\"\n",
    "    Perform OCR on cropped regions from the detected bounding boxes and include class names.\n",
    "    \"\"\"\n",
    "    for i, detection in enumerate(detections):\n",
    "        # Extract bounding box and class name\n",
    "        x1, y1, x2, y2, class_name = detection\n",
    "        cropped_image = image[int(y1):int(y2), int(x1):int(x2)]\n",
    "        \n",
    "        # Preprocess for better OCR results\n",
    "        gray = cv2.cvtColor(cropped_image, cv2.COLOR_BGR2GRAY)\n",
    "        _, binary = cv2.threshold(gray, 150, 255, cv2.THRESH_BINARY)\n",
    "        \n",
    "        # Perform OCR using Tesseract\n",
    "        text = pytesseract.image_to_string(binary, lang='eng')\n",
    "        print(f\"Class '{class_name}' detected: {text.strip()}\")\n",
    "\n",
    "        # Save or display cropped regions (optional)\n",
    "    #     cv2.imshow(f\"Region - {class_name}\", binary)\n",
    "    #     cv2.waitKey(0)\n",
    "    # cv2.destroyAllWindows()"
   ]
  },
  {
   "cell_type": "markdown",
   "id": "6dbb9b68",
   "metadata": {},
   "source": [
    "**Load Model and Perform Inference**\n",
    "\n",
    "Loads the trained YOLO model and performs inference on all invoice images in the specified folder. For each image:\n",
    "\n",
    "* Detects objects using the YOLO model.\n",
    "* Extracts bounding box coordinates and corresponding class names.\n",
    "* Performs OCR on detected regions."
   ]
  },
  {
   "cell_type": "code",
   "execution_count": 17,
   "id": "c71339a3-8fec-4732-b1f4-41dde923ad03",
   "metadata": {
    "colab": {
     "base_uri": "https://localhost:8080/",
     "height": 726
    },
    "id": "c71339a3-8fec-4732-b1f4-41dde923ad03",
    "outputId": "7515c12c-888e-480a-f109-3ea6a6b16890"
   },
   "outputs": [
    {
     "name": "stdout",
     "output_type": "stream",
     "text": [
      "\n",
      "image 1/1 c:\\Users\\hramphul\\Desktop\\yolo_ocr\\invoices\\service-invoice-template-1x.jpg: 640x480 1 Name_Client, 1 Products, 1 Subtotal, 2 Taxs, 1 Tel_Client, 1 billing address, 2 invoice dates, 2 invoice numbers, 1 total, 64.8ms\n",
      "Speed: 3.0ms preprocess, 64.8ms inference, 0.0ms postprocess per image at shape (1, 3, 640, 480)\n",
      "Detected objects for service-invoice-template-1x.jpg: [(92.17758178710938, 964.3442993164062, 1211.083984375, 1309.714599609375, 'Products'), (1056.4527587890625, 1544.5643310546875, 1193.139404296875, 1574.37939453125, 'total'), (1089.963623046875, 1371.732421875, 1196.6043701171875, 1396.4669189453125, 'Subtotal'), (1067.8226318359375, 772.3897705078125, 1215.751953125, 801.2837524414062, 'invoice number'), (1046.158203125, 302.2987060546875, 1226.0513916015625, 339.7677307128906, 'invoice date'), (82.00032043457031, 556.3425903320312, 406.1117858886719, 589.2283935546875, 'billing address'), (1033.93994140625, 822.3646240234375, 1214.4046630859375, 850.4378662109375, 'invoice date'), (1059.0947265625, 1478.7474365234375, 1194.3485107421875, 1506.292724609375, 'Tax'), (87.70162200927734, 783.3822021484375, 213.1538543701172, 810.8370361328125, 'Tel_Client'), (1046.541259765625, 187.89935302734375, 1224.3634033203125, 218.88302612304688, 'invoice number'), (1125.7786865234375, 1426.0999755859375, 1196.7652587890625, 1450.5455322265625, 'Tax'), (84.63330841064453, 515.9248657226562, 229.5704345703125, 548.5455932617188, 'Name_Client')]\n",
      "Class 'Products' detected: Brochure Design 1.00\n",
      "Brochure design - Single sided (Color)\n",
      "\n",
      "Web Design packages (Simple) 1.00\n",
      "\n",
      "10 Pages, Slider, Free Logo, Dynamic Website,\n",
      "Free Domain, Hosting Free for Ist year,\n",
      "\n",
      "Print Ad - Newspaper 1.00\n",
      "A full-page ad, Nationwide Circulation (Colour)\n",
      "\n",
      "900.00\n",
      "\n",
      "10,000.00\n",
      "\n",
      "7,500.00\n",
      "\n",
      "900.00\n",
      "\n",
      "10,000.00\n",
      "\n",
      "7,500.00\n",
      "Class 'total' detected: $19320.00\n",
      "Class 'Subtotal' detected: 18,400.00\n",
      "Class 'invoice number' detected: 05 Aug 2024\n",
      "Class 'invoice date' detected: $18,400.00\n",
      "Class 'billing address' detected: 3242 Chandler Hollow Road\n",
      "Class 'invoice date' detected: Due on Receipt\n",
      "Class 'Tax' detected: $19320.00\n",
      "Class 'Tel_Client' detected: Pittsburgh\n",
      "Class 'invoice number' detected: #INV-000001\n",
      "Class 'Tax' detected: 5.00%\n",
      "Class 'Name_Client' detected: Jack Little\n",
      "Processing complete for all images!\n"
     ]
    }
   ],
   "source": [
    "# Loading the best-trained model and performing inference on a test image.\n",
    "model = YOLO(f'{HOME}/runs/detect/train/weights/best.pt') \n",
    "   \n",
    "# Path to the images folder\n",
    "category = \"invoices\"\n",
    "images_folder = f\"{HOME}/{category}\"\n",
    "target_classes = [1]\n",
    "\n",
    "# Iterate through all files in the images folder\n",
    "for file_name in os.listdir(images_folder):\n",
    "    if file_name.endswith(('.jpg', '.jpeg', '.png')):  # Check for image files\n",
    "        file_path = os.path.join(images_folder, file_name)\n",
    "\n",
    "        # Load the image\n",
    "        image = cv2.imread(file_path)\n",
    "\n",
    "        # Run the YOLO model on the current image\n",
    "        results = model(file_path)\n",
    "        \n",
    "        # Extract bounding box coordinates and class names\n",
    "        detections = []\n",
    "        for box in results[0].boxes.data.tolist():\n",
    "            x1, y1, x2, y2, conf, cls = box[:6]\n",
    "            class_name = results[0].names[int(cls)]  # Map class index to class name\n",
    "            detections.append((x1, y1, x2, y2, class_name))\n",
    "        \n",
    "        print(f\"Detected objects for {file_name}: {detections}\")\n",
    "\n",
    "        # Perform OCR on detected regions\n",
    "        perform_ocr(image, detections)\n",
    "\n",
    "print(\"Processing complete for all images!\")                                               "
   ]
  }
 ],
 "metadata": {
  "accelerator": "GPU",
  "colab": {
   "gpuType": "T4",
   "provenance": []
  },
  "kernelspec": {
   "display_name": "Python 3",
   "language": "python",
   "name": "python3"
  },
  "language_info": {
   "codemirror_mode": {
    "name": "ipython",
    "version": 3
   },
   "file_extension": ".py",
   "mimetype": "text/x-python",
   "name": "python",
   "nbconvert_exporter": "python",
   "pygments_lexer": "ipython3",
   "version": "3.12.7"
  }
 },
 "nbformat": 4,
 "nbformat_minor": 5
}
